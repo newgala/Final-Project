{
 "cells": [
  {
   "cell_type": "code",
   "execution_count": 1,
   "id": "eff6f105",
   "metadata": {},
   "outputs": [],
   "source": [
    "import spotipy \n",
    "from spotipy.oauth2 import SpotifyClientCredentials\n",
    "import getpass\n",
    "import numpy as np\n",
    "import pandas as pd\n",
    "import random\n",
    "import re\n",
    "import nltk \n",
    "from nltk.tokenize import word_tokenize \n",
    "from nltk.corpus import stopwords\n",
    "from nltk.stem import WordNetLemmatizer\n",
    "from sklearn.feature_extraction.text import TfidfVectorizer\n",
    "from sklearn.metrics.pairwise import cosine_similarity"
   ]
  },
  {
   "cell_type": "code",
   "execution_count": 2,
   "id": "18fc1180",
   "metadata": {},
   "outputs": [],
   "source": [
    "podcast_collection=pd.read_csv('podcast_collection.csv')"
   ]
  },
  {
   "cell_type": "code",
   "execution_count": 3,
   "id": "d885735c",
   "metadata": {},
   "outputs": [
    {
     "name": "stdout",
     "output_type": "stream",
     "text": [
      "<class 'pandas.core.frame.DataFrame'>\n",
      "RangeIndex: 11665 entries, 0 to 11664\n",
      "Data columns (total 6 columns):\n",
      " #   Column       Non-Null Count  Dtype \n",
      "---  ------       --------------  ----- \n",
      " 0   name         11665 non-null  object\n",
      " 1   description  11502 non-null  object\n",
      " 2   explicit     11665 non-null  bool  \n",
      " 3   language     11665 non-null  object\n",
      " 4   url          11665 non-null  object\n",
      " 5   topic        11665 non-null  object\n",
      "dtypes: bool(1), object(5)\n",
      "memory usage: 467.2+ KB\n"
     ]
    }
   ],
   "source": [
    "podcast_collection.info()"
   ]
  },
  {
   "cell_type": "code",
   "execution_count": 4,
   "id": "ea927dd5",
   "metadata": {},
   "outputs": [
    {
     "data": {
      "text/html": [
       "<div>\n",
       "<style scoped>\n",
       "    .dataframe tbody tr th:only-of-type {\n",
       "        vertical-align: middle;\n",
       "    }\n",
       "\n",
       "    .dataframe tbody tr th {\n",
       "        vertical-align: top;\n",
       "    }\n",
       "\n",
       "    .dataframe thead th {\n",
       "        text-align: right;\n",
       "    }\n",
       "</style>\n",
       "<table border=\"1\" class=\"dataframe\">\n",
       "  <thead>\n",
       "    <tr style=\"text-align: right;\">\n",
       "      <th></th>\n",
       "      <th>name</th>\n",
       "      <th>description</th>\n",
       "      <th>explicit</th>\n",
       "      <th>language</th>\n",
       "      <th>url</th>\n",
       "      <th>topic</th>\n",
       "    </tr>\n",
       "  </thead>\n",
       "  <tbody>\n",
       "    <tr>\n",
       "      <th>0</th>\n",
       "      <td>Moment 45 - Why 80% Of Relationships Don't Wor...</td>\n",
       "      <td>In these ‘Moment’ episodes of my podcast, I’ll...</td>\n",
       "      <td>False</td>\n",
       "      <td>en-US</td>\n",
       "      <td>https://open.spotify.com/episode/2ysqVdxX6rkzO...</td>\n",
       "      <td>relationship</td>\n",
       "    </tr>\n",
       "  </tbody>\n",
       "</table>\n",
       "</div>"
      ],
      "text/plain": [
       "                                                name  \\\n",
       "0  Moment 45 - Why 80% Of Relationships Don't Wor...   \n",
       "\n",
       "                                         description  explicit language  \\\n",
       "0  In these ‘Moment’ episodes of my podcast, I’ll...     False    en-US   \n",
       "\n",
       "                                                 url         topic  \n",
       "0  https://open.spotify.com/episode/2ysqVdxX6rkzO...  relationship  "
      ]
     },
     "execution_count": 4,
     "metadata": {},
     "output_type": "execute_result"
    }
   ],
   "source": [
    "podcast_collection.head(1)"
   ]
  },
  {
   "cell_type": "code",
   "execution_count": 5,
   "id": "5783e834",
   "metadata": {},
   "outputs": [
    {
     "data": {
      "text/plain": [
       "array(['relationship', 'technology', 'history', 'food', 'music', 'lgbt',\n",
       "       'health fitness', 'science', 'education', 'book', 'spirituality'],\n",
       "      dtype=object)"
      ]
     },
     "execution_count": 5,
     "metadata": {},
     "output_type": "execute_result"
    }
   ],
   "source": [
    "podcast_collection['topic'].unique()"
   ]
  },
  {
   "cell_type": "code",
   "execution_count": 6,
   "id": "e5d7584d",
   "metadata": {},
   "outputs": [
    {
     "data": {
      "text/html": [
       "<div>\n",
       "<style scoped>\n",
       "    .dataframe tbody tr th:only-of-type {\n",
       "        vertical-align: middle;\n",
       "    }\n",
       "\n",
       "    .dataframe tbody tr th {\n",
       "        vertical-align: top;\n",
       "    }\n",
       "\n",
       "    .dataframe thead th {\n",
       "        text-align: right;\n",
       "    }\n",
       "</style>\n",
       "<table border=\"1\" class=\"dataframe\">\n",
       "  <thead>\n",
       "    <tr style=\"text-align: right;\">\n",
       "      <th></th>\n",
       "      <th>name</th>\n",
       "      <th>description</th>\n",
       "      <th>explicit</th>\n",
       "      <th>language</th>\n",
       "      <th>url</th>\n",
       "      <th>topic</th>\n",
       "    </tr>\n",
       "  </thead>\n",
       "  <tbody>\n",
       "    <tr>\n",
       "      <th>20</th>\n",
       "      <td>Ellum &amp; Captain Puffy Reveal Relationship Secr...</td>\n",
       "      <td>NaN</td>\n",
       "      <td>False</td>\n",
       "      <td>en-GB</td>\n",
       "      <td>https://open.spotify.com/episode/3toVDqZQJqWML...</td>\n",
       "      <td>relationship</td>\n",
       "    </tr>\n",
       "    <tr>\n",
       "      <th>129</th>\n",
       "      <td>Ask Ashley (Rocky Relationship With Mom)</td>\n",
       "      <td>NaN</td>\n",
       "      <td>False</td>\n",
       "      <td>en</td>\n",
       "      <td>https://open.spotify.com/episode/1axNUEH8pI0lB...</td>\n",
       "      <td>relationship</td>\n",
       "    </tr>\n",
       "    <tr>\n",
       "      <th>289</th>\n",
       "      <td>Shortest Relationship, New Waiting By The Phon...</td>\n",
       "      <td>NaN</td>\n",
       "      <td>False</td>\n",
       "      <td>en</td>\n",
       "      <td>https://open.spotify.com/episode/3Ep19mc3JsaI2...</td>\n",
       "      <td>relationship</td>\n",
       "    </tr>\n",
       "    <tr>\n",
       "      <th>352</th>\n",
       "      <td>Episode 148: We Go Deep Into Relationships</td>\n",
       "      <td>NaN</td>\n",
       "      <td>False</td>\n",
       "      <td>en</td>\n",
       "      <td>https://open.spotify.com/episode/36DGuLYcRkM2r...</td>\n",
       "      <td>relationship</td>\n",
       "    </tr>\n",
       "    <tr>\n",
       "      <th>422</th>\n",
       "      <td>Relationships Can 10X Your Business Growth</td>\n",
       "      <td>NaN</td>\n",
       "      <td>False</td>\n",
       "      <td>en</td>\n",
       "      <td>https://open.spotify.com/episode/3Wq2kOfuNdbQR...</td>\n",
       "      <td>relationship</td>\n",
       "    </tr>\n",
       "    <tr>\n",
       "      <th>...</th>\n",
       "      <td>...</td>\n",
       "      <td>...</td>\n",
       "      <td>...</td>\n",
       "      <td>...</td>\n",
       "      <td>...</td>\n",
       "      <td>...</td>\n",
       "    </tr>\n",
       "    <tr>\n",
       "      <th>11538</th>\n",
       "      <td>Episode 15: Freemasonry and Spirituality</td>\n",
       "      <td>NaN</td>\n",
       "      <td>False</td>\n",
       "      <td>en-US</td>\n",
       "      <td>https://open.spotify.com/episode/7dfuUgi5pisYH...</td>\n",
       "      <td>spirituality</td>\n",
       "    </tr>\n",
       "    <tr>\n",
       "      <th>11567</th>\n",
       "      <td>False Flag Ww3 , Spirituality.</td>\n",
       "      <td>NaN</td>\n",
       "      <td>False</td>\n",
       "      <td>en</td>\n",
       "      <td>https://open.spotify.com/episode/6W1uLNAKBi0Nl...</td>\n",
       "      <td>spirituality</td>\n",
       "    </tr>\n",
       "    <tr>\n",
       "      <th>11598</th>\n",
       "      <td>Episode 005 - Nick Yeh discusses religion and ...</td>\n",
       "      <td>NaN</td>\n",
       "      <td>False</td>\n",
       "      <td>en-US</td>\n",
       "      <td>https://open.spotify.com/episode/7nUaVIpGjOuKv...</td>\n",
       "      <td>spirituality</td>\n",
       "    </tr>\n",
       "    <tr>\n",
       "      <th>11603</th>\n",
       "      <td>Case Dorman &amp; Spirituality in the Workplace - ...</td>\n",
       "      <td>NaN</td>\n",
       "      <td>False</td>\n",
       "      <td>en</td>\n",
       "      <td>https://open.spotify.com/episode/17GtZ8zRRdfWI...</td>\n",
       "      <td>spirituality</td>\n",
       "    </tr>\n",
       "    <tr>\n",
       "      <th>11629</th>\n",
       "      <td>Jane Hogan: Blending Science and Spirituality ...</td>\n",
       "      <td>NaN</td>\n",
       "      <td>False</td>\n",
       "      <td>en</td>\n",
       "      <td>https://open.spotify.com/episode/3e8KhEGHrxEFG...</td>\n",
       "      <td>spirituality</td>\n",
       "    </tr>\n",
       "  </tbody>\n",
       "</table>\n",
       "<p>163 rows × 6 columns</p>\n",
       "</div>"
      ],
      "text/plain": [
       "                                                    name description  \\\n",
       "20     Ellum & Captain Puffy Reveal Relationship Secr...         NaN   \n",
       "129             Ask Ashley (Rocky Relationship With Mom)         NaN   \n",
       "289    Shortest Relationship, New Waiting By The Phon...         NaN   \n",
       "352           Episode 148: We Go Deep Into Relationships         NaN   \n",
       "422           Relationships Can 10X Your Business Growth         NaN   \n",
       "...                                                  ...         ...   \n",
       "11538           Episode 15: Freemasonry and Spirituality         NaN   \n",
       "11567                     False Flag Ww3 , Spirituality.         NaN   \n",
       "11598  Episode 005 - Nick Yeh discusses religion and ...         NaN   \n",
       "11603  Case Dorman & Spirituality in the Workplace - ...         NaN   \n",
       "11629  Jane Hogan: Blending Science and Spirituality ...         NaN   \n",
       "\n",
       "       explicit language                                                url  \\\n",
       "20        False    en-GB  https://open.spotify.com/episode/3toVDqZQJqWML...   \n",
       "129       False       en  https://open.spotify.com/episode/1axNUEH8pI0lB...   \n",
       "289       False       en  https://open.spotify.com/episode/3Ep19mc3JsaI2...   \n",
       "352       False       en  https://open.spotify.com/episode/36DGuLYcRkM2r...   \n",
       "422       False       en  https://open.spotify.com/episode/3Wq2kOfuNdbQR...   \n",
       "...         ...      ...                                                ...   \n",
       "11538     False    en-US  https://open.spotify.com/episode/7dfuUgi5pisYH...   \n",
       "11567     False       en  https://open.spotify.com/episode/6W1uLNAKBi0Nl...   \n",
       "11598     False    en-US  https://open.spotify.com/episode/7nUaVIpGjOuKv...   \n",
       "11603     False       en  https://open.spotify.com/episode/17GtZ8zRRdfWI...   \n",
       "11629     False       en  https://open.spotify.com/episode/3e8KhEGHrxEFG...   \n",
       "\n",
       "              topic  \n",
       "20     relationship  \n",
       "129    relationship  \n",
       "289    relationship  \n",
       "352    relationship  \n",
       "422    relationship  \n",
       "...             ...  \n",
       "11538  spirituality  \n",
       "11567  spirituality  \n",
       "11598  spirituality  \n",
       "11603  spirituality  \n",
       "11629  spirituality  \n",
       "\n",
       "[163 rows x 6 columns]"
      ]
     },
     "execution_count": 6,
     "metadata": {},
     "output_type": "execute_result"
    }
   ],
   "source": [
    "#Check null values in 'description': NaN 163 rows\n",
    "podcast_collection[podcast_collection.isnull().any(axis=1)]"
   ]
  },
  {
   "cell_type": "code",
   "execution_count": 7,
   "id": "c7eb3ac3",
   "metadata": {},
   "outputs": [],
   "source": [
    "#drop null values as those rows won't be used during the content analisy\n",
    "podcast_collection.dropna(subset=['description'],inplace=True)"
   ]
  },
  {
   "cell_type": "code",
   "execution_count": 8,
   "id": "75e9c1ca",
   "metadata": {},
   "outputs": [
    {
     "data": {
      "text/html": [
       "<div>\n",
       "<style scoped>\n",
       "    .dataframe tbody tr th:only-of-type {\n",
       "        vertical-align: middle;\n",
       "    }\n",
       "\n",
       "    .dataframe tbody tr th {\n",
       "        vertical-align: top;\n",
       "    }\n",
       "\n",
       "    .dataframe thead th {\n",
       "        text-align: right;\n",
       "    }\n",
       "</style>\n",
       "<table border=\"1\" class=\"dataframe\">\n",
       "  <thead>\n",
       "    <tr style=\"text-align: right;\">\n",
       "      <th></th>\n",
       "      <th>name</th>\n",
       "      <th>description</th>\n",
       "      <th>explicit</th>\n",
       "      <th>language</th>\n",
       "      <th>url</th>\n",
       "      <th>topic</th>\n",
       "    </tr>\n",
       "  </thead>\n",
       "  <tbody>\n",
       "  </tbody>\n",
       "</table>\n",
       "</div>"
      ],
      "text/plain": [
       "Empty DataFrame\n",
       "Columns: [name, description, explicit, language, url, topic]\n",
       "Index: []"
      ]
     },
     "execution_count": 8,
     "metadata": {},
     "output_type": "execute_result"
    }
   ],
   "source": [
    "# All cleaned: no Nan values \n",
    "podcast_collection[podcast_collection.isnull().any(axis=1)]"
   ]
  },
  {
   "cell_type": "code",
   "execution_count": 9,
   "id": "18f64cb7",
   "metadata": {},
   "outputs": [
    {
     "name": "stdout",
     "output_type": "stream",
     "text": [
      "<class 'pandas.core.frame.DataFrame'>\n",
      "Int64Index: 11502 entries, 0 to 11664\n",
      "Data columns (total 6 columns):\n",
      " #   Column       Non-Null Count  Dtype \n",
      "---  ------       --------------  ----- \n",
      " 0   name         11502 non-null  object\n",
      " 1   description  11502 non-null  object\n",
      " 2   explicit     11502 non-null  bool  \n",
      " 3   language     11502 non-null  object\n",
      " 4   url          11502 non-null  object\n",
      " 5   topic        11502 non-null  object\n",
      "dtypes: bool(1), object(5)\n",
      "memory usage: 550.4+ KB\n"
     ]
    }
   ],
   "source": [
    "podcast_collection.info()"
   ]
  },
  {
   "cell_type": "code",
   "execution_count": 10,
   "id": "599c77dd",
   "metadata": {},
   "outputs": [
    {
     "data": {
      "text/plain": [
       "(11502, 6)"
      ]
     },
     "execution_count": 10,
     "metadata": {},
     "output_type": "execute_result"
    }
   ],
   "source": [
    "podcast_collection.shape"
   ]
  },
  {
   "cell_type": "code",
   "execution_count": 11,
   "id": "4278331c",
   "metadata": {},
   "outputs": [
    {
     "data": {
      "text/plain": [
       "(11501, 6)"
      ]
     },
     "execution_count": 11,
     "metadata": {},
     "output_type": "execute_result"
    }
   ],
   "source": [
    "# search for and eliminate duplicates: no duplicates\n",
    "data_dedupe=podcast_collection.drop_duplicates()\n",
    "data_dedupe.shape"
   ]
  },
  {
   "cell_type": "code",
   "execution_count": 12,
   "id": "ceeb710f",
   "metadata": {},
   "outputs": [],
   "source": [
    "#dropped one duplicate and index reset\n",
    "podcast_collection.reset_index(drop=True, inplace=True)"
   ]
  },
  {
   "cell_type": "code",
   "execution_count": 13,
   "id": "65d83a4e",
   "metadata": {},
   "outputs": [],
   "source": [
    "podcast_collection=data_dedupe"
   ]
  },
  {
   "cell_type": "code",
   "execution_count": 14,
   "id": "b682238a",
   "metadata": {},
   "outputs": [
    {
     "data": {
      "text/plain": [
       "(11501, 6)"
      ]
     },
     "execution_count": 14,
     "metadata": {},
     "output_type": "execute_result"
    }
   ],
   "source": [
    "podcast_collection.shape"
   ]
  },
  {
   "cell_type": "code",
   "execution_count": 15,
   "id": "2edcf4f0",
   "metadata": {},
   "outputs": [
    {
     "data": {
      "text/plain": [
       "array(['en-US', 'en', 'en-AU', 'en-GB', 'id', 'de', 'en-ZA', 'nl-NL',\n",
       "       'en-CA', 'ml', 'fil', 'hi', 'ar', 'en-IE', 'ms', 'no', 'aa', 'tl',\n",
       "       'pt', 'en-PH', 'es', 'kn', 'nl', 'en-NZ', 'de-DE', 'hu', 'fi',\n",
       "       'te', 'pt-BR', 'it', 'th', 'sv-SE', 'ta', 'ja', 'fr', 'en-UK',\n",
       "       'es-MX', 'de-CH', 'es-ES', 'cs', 'pl', 'nl-BE', 'es-EC', 'aii',\n",
       "       'tr', 'es-CO', 'unite', 'it-IT', 'sv', 'und', 'zh', 'fr-FR', 'vi',\n",
       "       'ru', 'es-AR', 'zh-TW', 'pt-PT', 'sk', 'no-NO', 'ja-JP', 'de-AT',\n",
       "       'da', 'el', 'en-EN', 'es-CL', 'ne', 'ti', 'es-PE', 'es-LA',\n",
       "       'fr-CA', 'da-DK', 'et', 'zh-CN', 'gu', 'es-PR', 'sl', 'az', 'lv',\n",
       "       'ug', 'lt', 'zh-Hant', 'ca', 'cy', 'lb-LB', 'ko', 'he', 'mr',\n",
       "       'ro-RO', 'nb', 'my', 'ru-RU', 'hu-HU', 'es-CR', 'el-GR', 'bg',\n",
       "       'zu', 'af', 'pl-PL'], dtype=object)"
      ]
     },
     "execution_count": 15,
     "metadata": {},
     "output_type": "execute_result"
    }
   ],
   "source": [
    "podcast_collection['language'].unique()"
   ]
  },
  {
   "cell_type": "code",
   "execution_count": 16,
   "id": "7031388b",
   "metadata": {},
   "outputs": [],
   "source": [
    "## filter by english language\n",
    "podcast_collection=podcast_collection[podcast_collection.language.str.startswith('en')]"
   ]
  },
  {
   "cell_type": "code",
   "execution_count": 17,
   "id": "25f63466",
   "metadata": {},
   "outputs": [
    {
     "data": {
      "text/plain": [
       "array(['en-US', 'en', 'en-AU', 'en-GB', 'en-ZA', 'en-CA', 'en-IE',\n",
       "       'en-PH', 'en-NZ', 'en-UK', 'en-EN'], dtype=object)"
      ]
     },
     "execution_count": 17,
     "metadata": {},
     "output_type": "execute_result"
    }
   ],
   "source": [
    "podcast_collection['language'].unique()"
   ]
  },
  {
   "cell_type": "code",
   "execution_count": 18,
   "id": "273d14c5",
   "metadata": {},
   "outputs": [
    {
     "data": {
      "text/plain": [
       "(9770, 6)"
      ]
     },
     "execution_count": 18,
     "metadata": {},
     "output_type": "execute_result"
    }
   ],
   "source": [
    "podcast_collection.shape"
   ]
  },
  {
   "cell_type": "code",
   "execution_count": 19,
   "id": "1a33a516",
   "metadata": {},
   "outputs": [],
   "source": [
    "#drop \"language\" as it won't impact content similarity analisy\n",
    "podcast_collection=podcast_collection.drop(['language'],axis=1)"
   ]
  },
  {
   "cell_type": "code",
   "execution_count": 20,
   "id": "6b1c9a4a",
   "metadata": {},
   "outputs": [],
   "source": [
    "podcast_collection.reset_index(drop=True, inplace=True)"
   ]
  },
  {
   "cell_type": "code",
   "execution_count": 21,
   "id": "f336b479",
   "metadata": {},
   "outputs": [],
   "source": [
    "podcast_collection.to_csv('podcast_collection_final.csv',index=False,header=True)"
   ]
  },
  {
   "cell_type": "code",
   "execution_count": 22,
   "id": "cda44a21",
   "metadata": {},
   "outputs": [
    {
     "data": {
      "text/html": [
       "<div>\n",
       "<style scoped>\n",
       "    .dataframe tbody tr th:only-of-type {\n",
       "        vertical-align: middle;\n",
       "    }\n",
       "\n",
       "    .dataframe tbody tr th {\n",
       "        vertical-align: top;\n",
       "    }\n",
       "\n",
       "    .dataframe thead th {\n",
       "        text-align: right;\n",
       "    }\n",
       "</style>\n",
       "<table border=\"1\" class=\"dataframe\">\n",
       "  <thead>\n",
       "    <tr style=\"text-align: right;\">\n",
       "      <th></th>\n",
       "      <th>name</th>\n",
       "      <th>description</th>\n",
       "      <th>explicit</th>\n",
       "      <th>url</th>\n",
       "      <th>topic</th>\n",
       "    </tr>\n",
       "  </thead>\n",
       "  <tbody>\n",
       "    <tr>\n",
       "      <th>9769</th>\n",
       "      <td>\"Church Misogyny: A Privileged Perspective\" Ho...</td>\n",
       "      <td>Watch the entire episode at patreon.com/tfcatl...</td>\n",
       "      <td>False</td>\n",
       "      <td>https://open.spotify.com/episode/6cYoO0JpTQLom...</td>\n",
       "      <td>spirituality</td>\n",
       "    </tr>\n",
       "  </tbody>\n",
       "</table>\n",
       "</div>"
      ],
      "text/plain": [
       "                                                   name  \\\n",
       "9769  \"Church Misogyny: A Privileged Perspective\" Ho...   \n",
       "\n",
       "                                            description  explicit  \\\n",
       "9769  Watch the entire episode at patreon.com/tfcatl...     False   \n",
       "\n",
       "                                                    url         topic  \n",
       "9769  https://open.spotify.com/episode/6cYoO0JpTQLom...  spirituality  "
      ]
     },
     "execution_count": 22,
     "metadata": {},
     "output_type": "execute_result"
    }
   ],
   "source": [
    "podcast_collection.tail(1)"
   ]
  },
  {
   "cell_type": "code",
   "execution_count": 23,
   "id": "dfc9bba5",
   "metadata": {},
   "outputs": [
    {
     "data": {
      "text/plain": [
       "array(['relationship', 'technology', 'history', 'food', 'music', 'lgbt',\n",
       "       'health fitness', 'science', 'education', 'book', 'spirituality'],\n",
       "      dtype=object)"
      ]
     },
     "execution_count": 23,
     "metadata": {},
     "output_type": "execute_result"
    }
   ],
   "source": [
    "podcast_collection['topic'].unique()"
   ]
  },
  {
   "cell_type": "code",
   "execution_count": 24,
   "id": "9aaa88b0",
   "metadata": {},
   "outputs": [],
   "source": [
    "# Create a new column with name and description in preparation for the cosine similarity\n",
    "podcast_collection['name + description'] = podcast_collection['name']+ ' ' +podcast_collection['description']"
   ]
  },
  {
   "cell_type": "code",
   "execution_count": 25,
   "id": "5d1815d1",
   "metadata": {},
   "outputs": [
    {
     "name": "stdout",
     "output_type": "stream",
     "text": [
      "<class 'pandas.core.frame.DataFrame'>\n",
      "RangeIndex: 9770 entries, 0 to 9769\n",
      "Data columns (total 6 columns):\n",
      " #   Column              Non-Null Count  Dtype \n",
      "---  ------              --------------  ----- \n",
      " 0   name                9770 non-null   object\n",
      " 1   description         9770 non-null   object\n",
      " 2   explicit            9770 non-null   bool  \n",
      " 3   url                 9770 non-null   object\n",
      " 4   topic               9770 non-null   object\n",
      " 5   name + description  9770 non-null   object\n",
      "dtypes: bool(1), object(5)\n",
      "memory usage: 391.3+ KB\n"
     ]
    }
   ],
   "source": [
    "podcast_collection.info()"
   ]
  },
  {
   "cell_type": "code",
   "execution_count": 26,
   "id": "c9524b46",
   "metadata": {},
   "outputs": [],
   "source": [
    "stop_words=stopwords.words('english')"
   ]
  },
  {
   "cell_type": "code",
   "execution_count": 27,
   "id": "3457557b",
   "metadata": {},
   "outputs": [],
   "source": [
    "# Preprocessing: clean the dataset to facilitate the similarity analisy \n",
    "def cleaning(data):\n",
    "    text_tokens = word_tokenize(data.replace(\"'\", \"\").lower()) \n",
    "    tokens_without_punc = [w for w in text_tokens if w.isalpha()]  \n",
    "    tokens_without_sw = [t for t in tokens_without_punc if t not in stop_words]\n",
    "    text_cleaned = [WordNetLemmatizer().lemmatize(t) for t in tokens_without_sw]\n",
    "    return \" \".join(text_cleaned)"
   ]
  },
  {
   "cell_type": "code",
   "execution_count": 28,
   "id": "e18ffc58",
   "metadata": {},
   "outputs": [],
   "source": [
    "podcast_collection['name']=podcast_collection['name'].str.strip()"
   ]
  },
  {
   "cell_type": "code",
   "execution_count": 29,
   "id": "c7ede661",
   "metadata": {},
   "outputs": [],
   "source": [
    "podcast_collection['name + description'] = podcast_collection['name + description'].apply(cleaning)"
   ]
  },
  {
   "cell_type": "code",
   "execution_count": 30,
   "id": "75b43db3",
   "metadata": {},
   "outputs": [],
   "source": [
    "podcast_collection['name + description']=podcast_collection['name + description'].str.strip()"
   ]
  },
  {
   "cell_type": "code",
   "execution_count": 31,
   "id": "2f4b920d",
   "metadata": {},
   "outputs": [],
   "source": [
    "pd.set_option('display.max_colwidth', None)"
   ]
  },
  {
   "cell_type": "code",
   "execution_count": 32,
   "id": "109a4063",
   "metadata": {},
   "outputs": [
    {
     "data": {
      "text/plain": [
       "'mistake make love relationship expectation current relationship wish partner like thing like enjoy thing enjoy share passion want partner carve path along many relationship idealism partner need like like love love hate hate pretext show love toxic strip away partner identity freedom episode purpose jay shetty tell u common mistake make dont help relationship grow strengthen copy think like monk today clicking link http mistake make mistake make someone mistake someone could mistake stay long scared seen bad mistake trade time partner instead creating new mistake want like mistake take time understand way mistake talk many people person relationship mistake mad sacrifice made ask mistake know difference ownership partnership relationshiplike show please leave u review even one sentence help post screenshot listening instagram tag u thank personally'"
      ]
     },
     "execution_count": 32,
     "metadata": {},
     "output_type": "execute_result"
    }
   ],
   "source": [
    "podcast_collection['name + description'][1]"
   ]
  },
  {
   "cell_type": "code",
   "execution_count": 33,
   "id": "1544ae1b",
   "metadata": {},
   "outputs": [
    {
     "data": {
      "text/html": [
       "<div>\n",
       "<style scoped>\n",
       "    .dataframe tbody tr th:only-of-type {\n",
       "        vertical-align: middle;\n",
       "    }\n",
       "\n",
       "    .dataframe tbody tr th {\n",
       "        vertical-align: top;\n",
       "    }\n",
       "\n",
       "    .dataframe thead th {\n",
       "        text-align: right;\n",
       "    }\n",
       "</style>\n",
       "<table border=\"1\" class=\"dataframe\">\n",
       "  <thead>\n",
       "    <tr style=\"text-align: right;\">\n",
       "      <th></th>\n",
       "      <th>name</th>\n",
       "      <th>description</th>\n",
       "      <th>explicit</th>\n",
       "      <th>url</th>\n",
       "      <th>topic</th>\n",
       "      <th>name + description</th>\n",
       "    </tr>\n",
       "  </thead>\n",
       "  <tbody>\n",
       "    <tr>\n",
       "      <th>9769</th>\n",
       "      <td>\"Church Misogyny: A Privileged Perspective\" Holy Smokes: Cigars and Spirituality S4 E6</td>\n",
       "      <td>Watch the entire episode at patreon.com/tfcatl. Listen on your favorite podcast platform. The Faith Community is a disruptive ministry built upon five keys:  Greatest Commandment Theology, Anti-Racism, Women's Equity, LGBTQ+ Affirmation, and Bible Criticism. We are for the unchurched, the  over-churched, and the under-churched; the weary and the wounded; the seeking and the cynical. For more inspiring content like this, check out our other platforms: Custom Face Masks: www.thefaithcommunity.org/store Facebook: https://www.facebook.com/TFCATL Store: https://www.spreadshirt.com/user/faithcommunityatl Instagram: @tfcatl, @holysmokesmovement Patreon: https://www.patreon.com/Tfcatl Website: https://www.thefaithcommunity.org</td>\n",
       "      <td>False</td>\n",
       "      <td>https://open.spotify.com/episode/6cYoO0JpTQLomZBvHG9B23</td>\n",
       "      <td>spirituality</td>\n",
       "      <td>church misogyny privileged perspective holy smoke cigar spirituality watch entire episode listen favorite podcast platform faith community disruptive ministry built upon five key greatest commandment theology woman equity affirmation bible criticism unchurched weary wounded seeking cynical inspiring content like check platform custom face mask facebook http store http instagram tfcatl holysmokesmovement patreon http website http</td>\n",
       "    </tr>\n",
       "  </tbody>\n",
       "</table>\n",
       "</div>"
      ],
      "text/plain": [
       "                                                                                        name  \\\n",
       "9769  \"Church Misogyny: A Privileged Perspective\" Holy Smokes: Cigars and Spirituality S4 E6   \n",
       "\n",
       "                                                                                                                                                                                                                                                                                                                                                                                                                                                                                                                                                                                                                                                                                                                                                   description  \\\n",
       "9769  Watch the entire episode at patreon.com/tfcatl. Listen on your favorite podcast platform. The Faith Community is a disruptive ministry built upon five keys:  Greatest Commandment Theology, Anti-Racism, Women's Equity, LGBTQ+ Affirmation, and Bible Criticism. We are for the unchurched, the  over-churched, and the under-churched; the weary and the wounded; the seeking and the cynical. For more inspiring content like this, check out our other platforms: Custom Face Masks: www.thefaithcommunity.org/store Facebook: https://www.facebook.com/TFCATL Store: https://www.spreadshirt.com/user/faithcommunityatl Instagram: @tfcatl, @holysmokesmovement Patreon: https://www.patreon.com/Tfcatl Website: https://www.thefaithcommunity.org   \n",
       "\n",
       "      explicit                                                      url  \\\n",
       "9769     False  https://open.spotify.com/episode/6cYoO0JpTQLomZBvHG9B23   \n",
       "\n",
       "             topic  \\\n",
       "9769  spirituality   \n",
       "\n",
       "                                                                                                                                                                                                                                                                                                                                                                                                                                    name + description  \n",
       "9769  church misogyny privileged perspective holy smoke cigar spirituality watch entire episode listen favorite podcast platform faith community disruptive ministry built upon five key greatest commandment theology woman equity affirmation bible criticism unchurched weary wounded seeking cynical inspiring content like check platform custom face mask facebook http store http instagram tfcatl holysmokesmovement patreon http website http  "
      ]
     },
     "execution_count": 33,
     "metadata": {},
     "output_type": "execute_result"
    }
   ],
   "source": [
    "podcast_collection.tail(1)"
   ]
  },
  {
   "cell_type": "code",
   "execution_count": 34,
   "id": "df452e8c",
   "metadata": {},
   "outputs": [],
   "source": [
    "tf = TfidfVectorizer()\n",
    "tf_matrix = tf.fit_transform(podcast_collection['name + description'])\n",
    "tf_cosine_sim = cosine_similarity(tf_matrix)"
   ]
  },
  {
   "cell_type": "code",
   "execution_count": 35,
   "id": "5b653058",
   "metadata": {},
   "outputs": [
    {
     "data": {
      "text/plain": [
       "array([[1.        , 0.10672878, 0.08383457, ..., 0.02347535, 0.06615352,\n",
       "        0.04948533],\n",
       "       [0.10672878, 1.        , 0.09572376, ..., 0.03691321, 0.01569781,\n",
       "        0.01993186],\n",
       "       [0.08383457, 0.09572376, 1.        , ..., 0.02274845, 0.01750033,\n",
       "        0.        ],\n",
       "       ...,\n",
       "       [0.02347535, 0.03691321, 0.02274845, ..., 1.        , 0.02265303,\n",
       "        0.01443174],\n",
       "       [0.06615352, 0.01569781, 0.01750033, ..., 0.02265303, 1.        ,\n",
       "        0.08820411],\n",
       "       [0.04948533, 0.01993186, 0.        , ..., 0.01443174, 0.08820411,\n",
       "        1.        ]])"
      ]
     },
     "execution_count": 35,
     "metadata": {},
     "output_type": "execute_result"
    }
   ],
   "source": [
    "tf_cosine_sim"
   ]
  },
  {
   "cell_type": "code",
   "execution_count": 36,
   "id": "21777ccf",
   "metadata": {},
   "outputs": [
    {
     "data": {
      "text/plain": [
       "(9770, 9770)"
      ]
     },
     "execution_count": 36,
     "metadata": {},
     "output_type": "execute_result"
    }
   ],
   "source": [
    "tf_cosine_sim.shape"
   ]
  },
  {
   "cell_type": "code",
   "execution_count": null,
   "id": "e77fb429",
   "metadata": {},
   "outputs": [
    {
     "name": "stdout",
     "output_type": "stream",
     "text": [
      "Welcome to our podcast recommender:)Please enter a topic you might want to know more about:\n",
      "health fitness,\n",
      "technology,\n",
      "history,\n",
      "food,\n",
      "music,\n",
      "book,\n",
      "relationship,\n",
      "lgbt,\n",
      "science,\n",
      "education,\n",
      "spirituality\n",
      "spirituality\n",
      "We selected the following 5 titles of the topic you liked:                                                                                                                                                                                       name\n",
      "8925                                                                                                                                Instagram, Facebook, & TikTok are banning spirituality\n",
      "9444                                                                                                                                               3 Tips for People \"New\" to Spirituality\n",
      "9429                                                                                                                                  The Catholic Spirituality of Dietrich Von Hildebrand\n",
      "9353  The Daily Stoic (366 Meditations on Wisdom, Perseverance, and the Art of Living) by Ryan Holiday, Stephen Hanselman [Spirituality,Self-Growth] {#119} #BriefAudioBook - 24 July 2020\n",
      "9140                                                                                                                                    Episode 17. How Our Faith And Spirituality Evolves\n",
      "Please copy and paste the title that stimulates your curiosity: Episode 17. How Our Faith And Spirituality Evolves\n",
      "The 1 most recommended episodes to Episode 17. How Our Faith And Spirituality Evolves are:\n",
      "\n",
      "1 9623 The new year in faith and spirituality \n",
      " https://open.spotify.com/episode/6FQCpGPUib9agZMSGrRVMe\n",
      "\n",
      "None\n",
      "Do you want to try with an another title?: Instagram, Facebook, & TikTok are banning spirituality\n",
      "The 1 most recommended episodes to Instagram, Facebook, & TikTok are banning spirituality are:\n",
      "\n",
      "1 9732 Episode 11: Drugs & Other Spirituality \n",
      " https://open.spotify.com/episode/4wLIpnLbxYKLgokuGARg6T\n",
      "\n",
      "None\n"
     ]
    }
   ],
   "source": [
    "def episodes_rec(name, number):\n",
    "    index = podcast_collection[podcast_collection['name'] == name].index.values[0]\n",
    "    similarity_scores = list(enumerate(tf_cosine_sim[index]))\n",
    "    similarity_sorted_scores = sorted(similarity_scores, key = lambda x:x[1], reverse = True)\n",
    "\n",
    "    n = 0\n",
    "    print('The ' + str(number) + ' most recommended episodes to ' + name + ' are:\\n')\n",
    "    for index, score in similarity_sorted_scores[1:]:\n",
    "        name = podcast_collection[podcast_collection.index == index]['name'].values[0]\n",
    "        url = podcast_collection[podcast_collection.index == index]['url'].values[0]\n",
    "        print(n + 1, index, name, '\\n', url)\n",
    "        print()\n",
    "        n += 1\n",
    "        if n > (number - 1):\n",
    "            break\n",
    "podcast_list=list(podcast_collection['topic'].unique())\n",
    "podcast= str(input(\"Welcome to our podcast recommender:)Please enter a topic you might want to know more about:\\nhealth fitness,\\ntechnology,\\nhistory,\\nfood,\\nmusic,\\nbook,\\nrelationship,\\nlgbt,\\nscience,\\neducation,\\nspirituality\\n\")).lower()\n",
    "result=''\n",
    "if len(podcast)==0:\n",
    "    print('You forgot to input a topic, do you want to try again? If yes, press return')\n",
    "elif podcast not in podcast_list:\n",
    "    \n",
    "    print('You input a wrong spelling topic, do you want to try again? If yes, press return')\n",
    "else:\n",
    "    b=podcast_collection[podcast_collection['topic']==podcast].sample(5)\n",
    "    print('We selected the following 5 titles of the topic you liked:',b[['name']])\n",
    "    name = str(input('Please copy and paste the title that stimulates your curiosity: '))\n",
    "    print(episodes_rec(name,1))\n",
    "    name2 = str(input('Do you want to try with an another title?: '))\n",
    "    print(episodes_rec(name2,1))\n",
    "    name3 = str(input('Do you want to try with an another title?: '))\n",
    "    print(episodes_rec(name3,1))\n",
    "    name4 = str(input('Do you want to try with an another title?: '))\n",
    "    print(episodes_rec(name4,1))\n",
    "    name5 = str(input('Do you want to try with an another title?: '))\n",
    "    print(episodes_rec(name5,1))"
   ]
  }
 ],
 "metadata": {
  "kernelspec": {
   "display_name": "Python 3 (ipykernel)",
   "language": "python",
   "name": "python3"
  },
  "language_info": {
   "codemirror_mode": {
    "name": "ipython",
    "version": 3
   },
   "file_extension": ".py",
   "mimetype": "text/x-python",
   "name": "python",
   "nbconvert_exporter": "python",
   "pygments_lexer": "ipython3",
   "version": "3.9.7"
  },
  "toc": {
   "base_numbering": 1,
   "nav_menu": {},
   "number_sections": true,
   "sideBar": true,
   "skip_h1_title": false,
   "title_cell": "Table of Contents",
   "title_sidebar": "Contents",
   "toc_cell": false,
   "toc_position": {},
   "toc_section_display": true,
   "toc_window_display": false
  },
  "varInspector": {
   "cols": {
    "lenName": 16,
    "lenType": 16,
    "lenVar": 40
   },
   "kernels_config": {
    "python": {
     "delete_cmd_postfix": "",
     "delete_cmd_prefix": "del ",
     "library": "var_list.py",
     "varRefreshCmd": "print(var_dic_list())"
    },
    "r": {
     "delete_cmd_postfix": ") ",
     "delete_cmd_prefix": "rm(",
     "library": "var_list.r",
     "varRefreshCmd": "cat(var_dic_list()) "
    }
   },
   "types_to_exclude": [
    "module",
    "function",
    "builtin_function_or_method",
    "instance",
    "_Feature"
   ],
   "window_display": false
  }
 },
 "nbformat": 4,
 "nbformat_minor": 5
}
