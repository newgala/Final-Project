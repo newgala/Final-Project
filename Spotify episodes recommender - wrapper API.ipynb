{
 "cells": [
  {
   "cell_type": "markdown",
   "id": "b4ba53d0",
   "metadata": {},
   "source": [
    "# Spotify episodes recommender - wrapper API"
   ]
  },
  {
   "cell_type": "code",
   "execution_count": 1,
   "id": "9719019b",
   "metadata": {},
   "outputs": [],
   "source": [
    "import spotipy \n",
    "from spotipy.oauth2 import SpotifyClientCredentials\n",
    "import getpass\n",
    "import numpy as np\n",
    "import pandas as pd"
   ]
  },
  {
   "cell_type": "markdown",
   "id": "3c6f2a56",
   "metadata": {},
   "source": [
    "* https://developer.spotify.com/dashboard/login"
   ]
  },
  {
   "cell_type": "code",
   "execution_count": 6,
   "id": "a5f232f9",
   "metadata": {},
   "outputs": [
    {
     "name": "stdout",
     "output_type": "stream",
     "text": [
      "client_id?········\n",
      "client_secret?········\n"
     ]
    }
   ],
   "source": [
    "client_id = str(getpass.getpass('client_id?'))\n",
    "client_secret = str(getpass.getpass('client_secret?'))"
   ]
  },
  {
   "cell_type": "code",
   "execution_count": 7,
   "id": "192abf1d",
   "metadata": {},
   "outputs": [],
   "source": [
    "client_credentials_manager = SpotifyClientCredentials(client_id, client_secret)\n",
    "sp = spotipy.Spotify(client_credentials_manager = client_credentials_manager)"
   ]
  },
  {
   "cell_type": "code",
   "execution_count": 8,
   "id": "589ba245",
   "metadata": {},
   "outputs": [],
   "source": [
    "# Function to wrap episodes from Spotify API, extracting features: name, description,explicit,language and url in GB market\n",
    "def episodes_rec(queries, total):\n",
    "    name = []\n",
    "    description = []\n",
    "    explicit = []\n",
    "    language = []\n",
    "    url = []\n",
    "    if total <= 50:\n",
    "        limit = total\n",
    "    else:\n",
    "        limit = 50\n",
    "\n",
    "    for query in queries:\n",
    "        print(query)\n",
    "        \n",
    "        for i in range(0, total, limit):\n",
    "            results = sp.search(q = query, type = 'episode', market = 'GB',\n",
    "                                limit = limit, offset = i)\n",
    "            \n",
    "            for i, t in enumerate(results['episodes']['items']):\n",
    "                name.append(t['name'])\n",
    "                description.append(t['description'])\n",
    "                explicit.append(t['explicit'])\n",
    "                language.append(t['language'])\n",
    "                url.append(t['external_urls']['spotify'])\n",
    "                \n",
    "    df= pd.DataFrame({'name' : name, 'description' : description, 'explicit' : explicit,\n",
    "                              'language' : language,'url' : url}).drop_duplicates().reset_index(drop = True)\n",
    "    return df"
   ]
  },
  {
   "cell_type": "code",
   "execution_count": 9,
   "id": "777eb4b9",
   "metadata": {},
   "outputs": [
    {
     "name": "stdout",
     "output_type": "stream",
     "text": [
      "relationship\n",
      "technology\n",
      "history\n",
      "food\n",
      "music\n",
      "health fitness\n",
      "business\n",
      "science\n",
      "education\n",
      "lgbt\n",
      "book\n",
      "spirituality\n"
     ]
    }
   ],
   "source": [
    "#1\n",
    "relationship_df=episodes_rec(['relationship'],1000)\n",
    "topic='relationship'\n",
    "relationship_df['topic'] = topic\n",
    "#2\n",
    "technology_df=episodes_rec(['technology'],1000)\n",
    "topic='technology'\n",
    "technology_df['topic'] = topic\n",
    "#3\n",
    "history_df=episodes_rec(['history'],1000)\n",
    "topic='history'\n",
    "history_df['topic'] = topic\n",
    "#4\n",
    "food_df=episodes_rec(['food'],1000)\n",
    "topic='food'\n",
    "food_df['topic'] = topic\n",
    "#5\n",
    "music_df=episodes_rec(['music'],1000)\n",
    "topic='music'\n",
    "music_df['topic'] = topic\n",
    "#6\n",
    "health_fitness_df=episodes_rec(['health fitness'],1000)\n",
    "topic='health fitness'\n",
    "health_fitness_df['topic'] = topic\n",
    "#7\n",
    "business_df=episodes_rec(['business'],1000)\n",
    "topic='business'\n",
    "business_df['topic'] = topic\n",
    "#8\n",
    "science_df=episodes_rec(['science'],1000)\n",
    "topic='science'\n",
    "science_df['topic'] = topic\n",
    "#9\n",
    "education_df=episodes_rec(['education'],1000)\n",
    "topic='education'\n",
    "education_df['topic'] = topic\n",
    "#10\n",
    "lgbt_df=episodes_rec(['lgbt'],1000)\n",
    "topic='lgbt'\n",
    "lgbt_df['topic'] = topic\n",
    "#11\n",
    "book_df=episodes_rec(['book'],1000)\n",
    "topic='book'\n",
    "book_df['topic'] = topic\n",
    "#12\n",
    "spirituality_df=episodes_rec(['spirituality'],1000)\n",
    "topic='spirituality'\n",
    "spirituality_df['topic'] = topic"
   ]
  },
  {
   "cell_type": "code",
   "execution_count": 10,
   "id": "aa09f075",
   "metadata": {},
   "outputs": [],
   "source": [
    "podcast_collection=pd.concat([relationship_df,technology_df,history_df,food_df,music_df,lgbt_df,business_df,science_df,education_df,health_fitness_df,book_df,spirituality_df])"
   ]
  },
  {
   "cell_type": "code",
   "execution_count": 11,
   "id": "b5b2c4e7",
   "metadata": {},
   "outputs": [],
   "source": [
    "podcast_collection.reset_index(drop=True, inplace=True)"
   ]
  },
  {
   "cell_type": "code",
   "execution_count": 12,
   "id": "aed20375",
   "metadata": {},
   "outputs": [],
   "source": [
    "podcast_collection.to_csv('podcast_collection.csv',index=False,header=True)"
   ]
  },
  {
   "cell_type": "code",
   "execution_count": 13,
   "id": "a25d62a2",
   "metadata": {},
   "outputs": [
    {
     "name": "stdout",
     "output_type": "stream",
     "text": [
      "<class 'pandas.core.frame.DataFrame'>\n",
      "RangeIndex: 11446 entries, 0 to 11445\n",
      "Data columns (total 6 columns):\n",
      " #   Column       Non-Null Count  Dtype \n",
      "---  ------       --------------  ----- \n",
      " 0   name         11446 non-null  object\n",
      " 1   description  11446 non-null  object\n",
      " 2   explicit     11446 non-null  bool  \n",
      " 3   language     11446 non-null  object\n",
      " 4   url          11446 non-null  object\n",
      " 5   topic        11446 non-null  object\n",
      "dtypes: bool(1), object(5)\n",
      "memory usage: 458.4+ KB\n"
     ]
    }
   ],
   "source": [
    "podcast_collection.info()"
   ]
  },
  {
   "cell_type": "code",
   "execution_count": 14,
   "id": "2827a715",
   "metadata": {},
   "outputs": [
    {
     "data": {
      "text/html": [
       "<div>\n",
       "<style scoped>\n",
       "    .dataframe tbody tr th:only-of-type {\n",
       "        vertical-align: middle;\n",
       "    }\n",
       "\n",
       "    .dataframe tbody tr th {\n",
       "        vertical-align: top;\n",
       "    }\n",
       "\n",
       "    .dataframe thead th {\n",
       "        text-align: right;\n",
       "    }\n",
       "</style>\n",
       "<table border=\"1\" class=\"dataframe\">\n",
       "  <thead>\n",
       "    <tr style=\"text-align: right;\">\n",
       "      <th></th>\n",
       "      <th>name</th>\n",
       "      <th>description</th>\n",
       "      <th>explicit</th>\n",
       "      <th>language</th>\n",
       "      <th>url</th>\n",
       "      <th>topic</th>\n",
       "    </tr>\n",
       "  </thead>\n",
       "  <tbody>\n",
       "    <tr>\n",
       "      <th>11445</th>\n",
       "      <td>Episode 125 - Spirituality, Letters</td>\n",
       "      <td>Hi folks! This week after we discuss how we're...</td>\n",
       "      <td>True</td>\n",
       "      <td>en</td>\n",
       "      <td>https://open.spotify.com/episode/1R7jgQTKxRxMY...</td>\n",
       "      <td>spirituality</td>\n",
       "    </tr>\n",
       "  </tbody>\n",
       "</table>\n",
       "</div>"
      ],
      "text/plain": [
       "                                      name  \\\n",
       "11445  Episode 125 - Spirituality, Letters   \n",
       "\n",
       "                                             description  explicit language  \\\n",
       "11445  Hi folks! This week after we discuss how we're...      True       en   \n",
       "\n",
       "                                                     url         topic  \n",
       "11445  https://open.spotify.com/episode/1R7jgQTKxRxMY...  spirituality  "
      ]
     },
     "execution_count": 14,
     "metadata": {},
     "output_type": "execute_result"
    }
   ],
   "source": [
    "podcast_collection.tail(1)"
   ]
  }
 ],
 "metadata": {
  "kernelspec": {
   "display_name": "Python 3 (ipykernel)",
   "language": "python",
   "name": "python3"
  },
  "language_info": {
   "codemirror_mode": {
    "name": "ipython",
    "version": 3
   },
   "file_extension": ".py",
   "mimetype": "text/x-python",
   "name": "python",
   "nbconvert_exporter": "python",
   "pygments_lexer": "ipython3",
   "version": "3.9.7"
  },
  "toc": {
   "base_numbering": 1,
   "nav_menu": {},
   "number_sections": true,
   "sideBar": true,
   "skip_h1_title": false,
   "title_cell": "Table of Contents",
   "title_sidebar": "Contents",
   "toc_cell": false,
   "toc_position": {},
   "toc_section_display": true,
   "toc_window_display": false
  },
  "varInspector": {
   "cols": {
    "lenName": 16,
    "lenType": 16,
    "lenVar": 40
   },
   "kernels_config": {
    "python": {
     "delete_cmd_postfix": "",
     "delete_cmd_prefix": "del ",
     "library": "var_list.py",
     "varRefreshCmd": "print(var_dic_list())"
    },
    "r": {
     "delete_cmd_postfix": ") ",
     "delete_cmd_prefix": "rm(",
     "library": "var_list.r",
     "varRefreshCmd": "cat(var_dic_list()) "
    }
   },
   "types_to_exclude": [
    "module",
    "function",
    "builtin_function_or_method",
    "instance",
    "_Feature"
   ],
   "window_display": false
  }
 },
 "nbformat": 4,
 "nbformat_minor": 5
}
